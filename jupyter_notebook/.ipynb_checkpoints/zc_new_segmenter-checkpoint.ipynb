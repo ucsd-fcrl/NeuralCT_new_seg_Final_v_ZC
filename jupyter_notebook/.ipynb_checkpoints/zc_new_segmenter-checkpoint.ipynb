{
 "cells": [
  {
   "cell_type": "code",
   "execution_count": 28,
   "metadata": {},
   "outputs": [],
   "source": [
    "# this script is a new segmenter (instead of GMM) to assign classes to FBP image."
   ]
  },
  {
   "cell_type": "code",
   "execution_count": 77,
   "metadata": {},
   "outputs": [],
   "source": [
    "import os\n",
    "import numpy as np\n",
    "import matplotlib.pyplot as plt\n",
    "from sklearn.mixture import GaussianMixture\n",
    "import easy_function_list as ff\n",
    "from skimage import measure\n",
    "import cv2\n",
    "import cv2"
   ]
  },
  {
   "cell_type": "code",
   "execution_count": 78,
   "metadata": {},
   "outputs": [],
   "source": [
    "#main_folder = '/Volumes/MainShare/workspaces/zhennong/NeuralCT/study1A_results'\n",
    "main_folder = '/Users/zhennongchen/Documents/Zhennong_NeuralCT/Test_Result/Letter_experiment/labels/letter9'\n",
    "offset = 0\n",
    "heart_rate = 100"
   ]
  },
  {
   "cell_type": "code",
   "execution_count": 79,
   "metadata": {},
   "outputs": [],
   "source": [
    "def GMM_model(img,num_component,maximum_value,buffer):\n",
    "    \n",
    "    assert len(img.shape) == 3\n",
    "    \n",
    "    add = 3\n",
    "    num_components = num_component + add\n",
    "\n",
    "    \n",
    "    \n",
    "    # GMM\n",
    "    itr = 0\n",
    "    while 1 == 1:\n",
    "        mask = np.random.randint(0,img.shape[2],int(0.05*img.shape[2]))\n",
    "        X = img[...,mask].reshape(-1,1) \n",
    "\n",
    "        gm = GaussianMixture(n_components= num_components, random_state=0).fit(X)\n",
    "        \n",
    "        \n",
    "        threshold_gold = maximum_value  * (1-buffer)\n",
    "    \n",
    "        labels_to_use_gold = np.where(gm.means_[:,0]>threshold_gold)[0] \n",
    "        print(threshold_gold, gm.means_[:,0], labels_to_use_gold)\n",
    "        \n",
    "#         threshold_silver = 0.1\n",
    "#         labels_to_use_silver = np.where(gm.means_[:,0]>threshold_silver)[0]   \n",
    "        \n",
    "        if labels_to_use_gold.shape[0] >= num_component:\n",
    "            labels_to_use = labels_to_use_gold.copy()\n",
    "            print('use gold ',gm.means_, labels_to_use, labels_to_use.shape,gm.means_[labels_to_use,0])\n",
    "            break\n",
    "#         else:\n",
    "#             if labels_to_use_silver.shape[0] >= num_component:\n",
    "#                 labels_to_use = labels_to_use_silver.copy()\n",
    "#                 print('use silver ', gm.means_, labels_to_use, labels_to_use.shape,gm.means_[labels_to_use,0])\n",
    "#                 break\n",
    "                \n",
    "        \n",
    "        if itr > 200:\n",
    "            print('FAIL GMM!')\n",
    "            break \n",
    "            \n",
    "        itr += 1\n",
    "        \n",
    "        \n",
    "    labels = np.zeros((img.shape))\n",
    "\n",
    "    for i in range(img.shape[2]):\n",
    "        label_image = np.zeros((img.shape[0],img.shape[1],labels_to_use.shape[0]))\n",
    "\n",
    "        count=1\n",
    "        sizes = []\n",
    "\n",
    "        # enumerate each label\n",
    "        for idx, k in enumerate(labels_to_use):\n",
    "            lbi = (gm.predict(img[...,i].reshape(-1,1)).reshape(img.shape[0],img.shape[1]) == k)\n",
    "            label_image[...,idx] = lbi*count # so each label is numerically 0,1,2,3...\n",
    "            \n",
    "            sizes.append(np.sum(lbi))\n",
    "            count+=1\n",
    "    \n",
    "        sizes2 = np.asarray(sizes).copy().tolist()\n",
    "        sizes2.sort(reverse=True)\n",
    "        \n",
    "        if i == 0:\n",
    "            print('size and size2', sizes, sizes2, num_components - add, sizes2[num_components-add:])\n",
    "        \n",
    "        if sizes2[num_components-add:] != []: # remove labels with larger size\n",
    "            labels_to_remove = []\n",
    "            for jj in sizes2[num_components-add:]:\n",
    "                labels_to_remove.append(sizes.index(jj))\n",
    "            label_image = np.delete(label_image,labels_to_remove,axis=2)\n",
    "\n",
    "\n",
    "        # before sum, each label is one channel, [x_dim, y_dim, label]\n",
    "        # after sum, just one image [x_dim,y_dim] with each pixel labeled.\n",
    "        label_image = np.sum(label_image, axis=2)\n",
    "        if i == 0:\n",
    "            print('label image : ',label_image.shape, np.unique(label_image))\n",
    "\n",
    "        labels[...,i] = label_image\n",
    "        \n",
    "    return labels, gm, labels_to_use\n",
    "        \n",
    "    "
   ]
  },
  {
   "cell_type": "code",
   "execution_count": 80,
   "metadata": {},
   "outputs": [],
   "source": [
    "def threshold_model(img,maximum_value,buffer):\n",
    "    threshold = maximum_value * (1-buffer)\n",
    "    print(threshold)\n",
    "    labels = np.zeros(img.shape)\n",
    "    for i in range(0,labels.shape[-1]):\n",
    "        s = img[:,:,i]\n",
    "        if np.max(s) <= threshold:\n",
    "            per_slice_threshold = np.max(s) * (1-buffer)\n",
    "        else:\n",
    "            per_slice_threshold = threshold\n",
    "            \n",
    "        labels[:,:,i] = img[:,:,i]\n",
    "        \n",
    "        labels[labels >= per_slice_threshold] = 1\n",
    "        labels[labels < per_slice_threshold] = 0\n",
    "    \n",
    "    return labels\n"
   ]
  },
  {
   "cell_type": "code",
   "execution_count": 81,
   "metadata": {},
   "outputs": [],
   "source": [
    "\n",
    "# label_file = os.path.join(main_folder,'movie_letter_v4_c3_GMM_labels.npy')\n",
    "# labels =  np.load(label_file,allow_pickle=True)\n",
    "# plt.imshow(labels[:,:,500],cmap=\"gray\")\n",
    "# print(np.unique(labels[:,:,200]))"
   ]
  },
  {
   "cell_type": "code",
   "execution_count": 82,
   "metadata": {},
   "outputs": [
    {
     "name": "stdout",
     "output_type": "stream",
     "text": [
      "(130, 130, 1400) 0.9350935793248167\n"
     ]
    },
    {
     "data": {
      "text/plain": [
       "<matplotlib.image.AxesImage at 0x7f89f7165640>"
      ]
     },
     "execution_count": 82,
     "metadata": {},
     "output_type": "execute_result"
    },
    {
     "data": {
      "image/png": "[encoded data removed]",
      "text/plain": [
       "<Figure size 432x288 with 1 Axes>"
      ]
     },
     "metadata": {
      "needs_background": "light"
     },
     "output_type": "display_data"
    }
   ],
   "source": [
    "fbp_file = os.path.join(main_folder,'movie_letter_v3_c2_fbp.npy')\n",
    "fbp_data = np.load(fbp_file,allow_pickle = True)\n",
    "fbp = fbp_data.copy()\n",
    "print(fbp.shape,np.max(fbp[:,:,360]))\n",
    "plt.imshow(fbp[:,:,360],cmap=\"gray\")"
   ]
  },
  {
   "cell_type": "code",
   "execution_count": 66,
   "metadata": {},
   "outputs": [],
   "source": [
    "# # if only one object:\n",
    "# box1 = [25, 100, 20, 90]\n",
    "# fbp_box1 = fbp[box1[0]:box1[1], box1[2]:box1[3],:]\n",
    "# labels_box1 = threshold_model(fbp_box1,np.max(fbp_box1[:,:,360]),0.50)\n",
    "# plt.imshow(labels_box1[:,:,360],cmap=\"gray\")\n",
    "\n"
   ]
  },
  {
   "cell_type": "code",
   "execution_count": 36,
   "metadata": {},
   "outputs": [
    {
     "data": {
      "text/plain": [
       "<matplotlib.image.AxesImage at 0x7ff0ab7c46a0>"
      ]
     },
     "execution_count": 36,
     "metadata": {},
     "output_type": "execute_result"
    },
    {
     "data": {
      "image/png": "[encoded data removed]",
      "text/plain": [
       "<Figure size 432x288 with 1 Axes>"
      ]
     },
     "metadata": {
      "needs_background": "light"
     },
     "output_type": "display_data"
    }
   ],
   "source": [
    "# labels = np.zeros(fbp.shape)\n",
    "\n",
    "\n",
    "# labels[box1[0]:box1[1],box1[2]:box1[3],:] = labels_box1\n",
    "\n",
    "# plt.imshow(labels[:,:,540],cmap=\"gray\")"
   ]
  },
  {
   "cell_type": "code",
   "execution_count": 37,
   "metadata": {},
   "outputs": [],
   "source": [
    "\n",
    "# save_folder = os.path.join(main_folder,'class_by_spatial')\n",
    "# os.makedirs(save_folder, exist_ok = True)\n",
    "# os.makedirs(os.path.join(save_folder, 'pngs'),exist_ok = True)\n",
    "\n",
    "# # save numpy\n",
    "# #np.save(os.path.join(save_folder,'movie_' + str(offset) + '_'+str(heart_rate)+'_spatial_labels'),labels)\n",
    "# np.save(os.path.join(save_folder,'movie_oneletter_c2_spatial_labels'),labels)\n",
    "\n",
    "# # save images\n",
    "# for i in range(labels.shape[2]):\n",
    "#     plt.imsave('{}/{}.png'.format(os.path.join(save_folder,'pngs'),i),labels[...,i],cmap='gray')\n",
    "\n",
    "# # save movie\n",
    "# pngs = ff.sort_timeframe(ff.find_all_target_files(['*.png'],os.path.join(save_folder,'pngs')),1)\n",
    "# #ff.make_movies(os.path.join(save_folder,'movie_' + str(offset) + '_'+str(heart_rate)+'_spatial_labels_movie.mp4'),pngs,144)\n",
    "# ff.make_movies(os.path.join(save_folder,'movie_oneletter_c2_spatial_labels_movie.mp4'),pngs,100)\n",
    "    "
   ]
  },
  {
   "cell_type": "code",
   "execution_count": 68,
   "metadata": {},
   "outputs": [
    {
     "name": "stdout",
     "output_type": "stream",
     "text": [
      "[5, 70, 30, 80] [70, 125, 60, 110] (65, 50, 1400) (55, 50, 1400)\n"
     ]
    },
    {
     "data": {
      "text/plain": [
       "<matplotlib.image.AxesImage at 0x7f89e70b3af0>"
      ]
     },
     "execution_count": 68,
     "metadata": {},
     "output_type": "execute_result"
    },
    {
     "data": {
      "image/png": "[encoded data removed]",
      "text/plain": [
       "<Figure size 432x288 with 1 Axes>"
      ]
     },
     "metadata": {
      "needs_background": "light"
     },
     "output_type": "display_data"
    }
   ],
   "source": [
    "# divide the whole image ino two parts. \n",
    "# for circle experiments, division line = 80\n",
    "\n",
    "# box1 = [0,80,0,fbp.shape[0]] #[x_low, x_high, y_low, y_high]\n",
    "# box2 = [80,fbp.shape[0],0,fbp.shape[0]]\n",
    "\n",
    "# for letter\n",
    "box1 = [5, 70, 30, 80]\n",
    "box2 = [70, fbp.shape[0] -5,60, 110]\n",
    "\n",
    "fbp_box1 = fbp[box1[0]:box1[1], box1[2]:box1[3],:]\n",
    "fbp_box2 = fbp[box2[0]:box2[1], box2[2]:box2[3],:]\n",
    "print(box1,box2,fbp_box1.shape, fbp_box2.shape)\n",
    "\n",
    "plt.imshow(fbp_box2[:,:,700],cmap=\"gray\")\n",
    "#plt.imshow(fbp_box2[:,:,37],cmap=\"gray\")"
   ]
  },
  {
   "cell_type": "code",
   "execution_count": 42,
   "metadata": {},
   "outputs": [
    {
     "name": "stdout",
     "output_type": "stream",
     "text": [
      "1.4538348490295863\n",
      "1.2037768695056634\n",
      "0.9774689011970268\n",
      "0.6619937522291526\n",
      "1.072790175263615\n"
     ]
    }
   ],
   "source": [
    "print(np.max(fbp_box1))\n",
    "print(np.max(fbp_box2))\n",
    "print(np.max(fbp_box1[:,:,230]))\n",
    "print(np.max(fbp_box2[:,:,37]))\n",
    "print(np.max(fbp_box2[:,:,360]))"
   ]
  },
  {
   "cell_type": "code",
   "execution_count": 43,
   "metadata": {},
   "outputs": [
    {
     "name": "stdout",
     "output_type": "stream",
     "text": [
      "from 0.0 to 0.1, there are 1358369 pixels\n",
      "from 0.1 to 0.2, there are 298617 pixels\n",
      "from 0.2 to 0.3, there are 165039 pixels\n",
      "from 0.3 to 0.4, there are 153416 pixels\n",
      "from 0.4 to 0.5, there are 169760 pixels\n",
      "from 0.5 to 0.6, there are 230190 pixels\n",
      "from 0.6 to 0.7, there are 327100 pixels\n",
      "from 0.7 to 0.8, there are 307563 pixels\n",
      "from 0.8 to 0.9, there are 98318 pixels\n",
      "from 0.9 to 1.0, there are 30528 pixels\n",
      "from 1.0 to 1.1, there are 9611 pixels\n",
      "from 1.1 to 1.2, there are 2657 pixels\n",
      "from 1.2 to 1.3, there are 844 pixels\n",
      "from 1.3 to 1.4, there are 242 pixels\n",
      "from 1.4 to 1.5, there are 45 pixels\n"
     ]
    }
   ],
   "source": [
    "# show intensity distribution - have some pixels with intensity much larger than it should be\n",
    "bars = np.linspace(0,1.5,16) \n",
    "count_list = []\n",
    "fbp_box1_flatten = fbp_box1.flatten()\n",
    "for i in range(0,bars.shape[0]-1):\n",
    "    I = fbp_box1.copy();\n",
    "    I = I.flatten()\n",
    "\n",
    "    I[(fbp_box1_flatten>=bars[i]) & (fbp_box1_flatten<bars[i+1]) ] = 1\n",
    "    I[(fbp_box1_flatten<bars[i]) | (fbp_box1_flatten >= bars[i+1])] = 0\n",
    "    print('from %.1f to %.1f, there are %d pixels' % (bars[i],bars[i+1],np.sum(I)))\n",
    "  \n",
    "    \n"
   ]
  },
  {
   "cell_type": "code",
   "execution_count": 68,
   "metadata": {},
   "outputs": [],
   "source": [
    "# dilation:\n",
    "def dilation(img,kernel_size):\n",
    "    kernel = np.ones((kernel_size,kernel_size), np.uint8)\n",
    "    return cv2.dilate(img,kernel,iterations = 1)\n",
    "\n",
    "# find connected components:\n",
    "def connected_comp(img):\n",
    "    unique_values = np.unique(img)\n",
    "    assert unique_values.shape[0] <= 2\n",
    "    \n",
    "    connected_image = measure.label(img)\n",
    "    connected_class = np.unique(connected_image)\n",
    "    \n",
    "    return connected_image, connected_class\n",
    "\n",
    "# only pick the largest connected component(not background)\n",
    "def pick_largest_comp(img):\n",
    "    img_new = img.copy()\n",
    "    connected_image, connected_class = connected_comp(img_new)\n",
    "    \n",
    "    count_list = []\n",
    "    for i in range(0,connected_class.shape[0]):\n",
    "        I = np.zeros(connected_image.shape)\n",
    "        I[connected_image == connected_class[i]] = 1\n",
    "  \n",
    "        count_list.append(np.sum(I))\n",
    "    \n",
    "    \n",
    "    if len(count_list) == 1: # only background\n",
    "        return img_new\n",
    "        \n",
    "    \n",
    "    count_list_sort = np.asarray(count_list).copy().tolist()\n",
    "    count_list_sort.sort(reverse=True)\n",
    "\n",
    "    big_class_index = count_list.index(count_list_sort[1]) # not 0 (which is background)\n",
    "\n",
    "    big_class= connected_class[big_class_index]\n",
    "\n",
    "    img_new[connected_image != big_class] = 0\n",
    "    \n",
    "    return img_new"
   ]
  },
  {
   "cell_type": "code",
   "execution_count": 69,
   "metadata": {
    "scrolled": true
   },
   "outputs": [
    {
     "name": "stdout",
     "output_type": "stream",
     "text": [
      "0.4750626625663856\n"
     ]
    }
   ],
   "source": [
    "# label_box1\n",
    "#labels_box1, gm1, labels_to_use1 = GMM_model(fbp_box1,1,np.max(fbp_box1[:,:,300]),0.40)\n",
    "\n",
    "# for circular experiment, threshold = 0.3\n",
    "# for letter experiment, threshold = 0.6\n",
    "labels_box1 = threshold_model(fbp_box1,np.max(fbp_box1[:,:,700]),0.60)\n"
   ]
  },
  {
   "cell_type": "code",
   "execution_count": 71,
   "metadata": {},
   "outputs": [
    {
     "data": {
      "text/plain": [
       "<matplotlib.image.AxesImage at 0x7f89e71332e0>"
      ]
     },
     "execution_count": 71,
     "metadata": {},
     "output_type": "execute_result"
    },
    {
     "data": {
      "image/png": "[encoded data removed]",
      "text/plain": [
       "<Figure size 432x288 with 1 Axes>"
      ]
     },
     "metadata": {
      "needs_background": "light"
     },
     "output_type": "display_data"
    }
   ],
   "source": [
    "plt.imshow(labels_box1[:,:,700],cmap=\"gray\")"
   ]
  },
  {
   "cell_type": "code",
   "execution_count": 70,
   "metadata": {},
   "outputs": [],
   "source": [
    "# # do dilation (kernel = 10) on each image\n",
    "# labels_box1_new = np.zeros(labels_box1.shape)\n",
    "\n",
    "# for i in range(0,labels_box1.shape[-1]):\n",
    "#     labels_box1_new[:,:,i] = dilation(labels_box1[:,:,i],10)\n",
    "# labels_box1 = labels_box1_new.copy()\n",
    "# plt.imshow(labels_box1[:,:,360],cmap=\"gray\")\n",
    "    "
   ]
  },
  {
   "cell_type": "code",
   "execution_count": 71,
   "metadata": {},
   "outputs": [],
   "source": [
    "# # do dilation (kernel = 5) and pick largest connected image on each slice\n",
    "# labels_box1_new = np.zeros(labels_box1.shape)\n",
    "\n",
    "# for i in range(0,labels_box1.shape[-1]):\n",
    "#     labels_box1_new[:,:,i] = pick_largest_comp(dilation(labels_box1[:,:,i],5))\n",
    "    \n",
    "# labels_box1 = labels_box1_new.copy()\n",
    "# plt.imshow(labels_box1[:,:,360],cmap=\"gray\")"
   ]
  },
  {
   "cell_type": "code",
   "execution_count": 72,
   "metadata": {},
   "outputs": [
    {
     "name": "stdout",
     "output_type": "stream",
     "text": [
      "0.4091043245940831\n"
     ]
    }
   ],
   "source": [
    "# labels_box2\n",
    "#labels_box2, gm2, labels_to_use2 = GMM_model(fbp_box2,1,np.max(fbp_box2[:,:,0]),0.20)\n",
    "\n",
    "# for circular experiment, threshold = 0.3\n",
    "# for letter experiment, threshold = 0.6\n",
    "labels_box2 = threshold_model(fbp_box2,np.max(fbp_box2[:,:,360]),0.60)"
   ]
  },
  {
   "cell_type": "code",
   "execution_count": 73,
   "metadata": {},
   "outputs": [
    {
     "name": "stdout",
     "output_type": "stream",
     "text": [
      "[0. 1.]\n"
     ]
    },
    {
     "data": {
      "image/png": "[encoded data removed]",
      "text/plain": [
       "<Figure size 432x288 with 1 Axes>"
      ]
     },
     "metadata": {
      "needs_background": "light"
     },
     "output_type": "display_data"
    }
   ],
   "source": [
    "plt.imshow(labels_box2[:,:,700],cmap=\"gray\")\n",
    "print(np.unique(labels_box2))"
   ]
  },
  {
   "cell_type": "code",
   "execution_count": 74,
   "metadata": {},
   "outputs": [],
   "source": [
    "# # do dilation on each image\n",
    "# labels_box2_new = np.zeros(labels_box2.shape)\n",
    "\n",
    "# for i in range(0,labels_box2.shape[-1]):\n",
    "#     labels_box2_new[:,:,i] = dilation(labels_box2[:,:,i],5)\n",
    "# labels_box2 = labels_box2_new.copy()\n",
    "# plt.imshow(labels_box2[:,:,300],cmap=\"gray\")\n",
    "\n",
    "\n",
    "# # do dilation (kernel = 5) and pick largest connected image on each slice\n",
    "# labels_box2_new = np.zeros(labels_box2.shape)\n",
    "\n",
    "# for i in range(0,labels_box2.shape[-1]):\n",
    "#     labels_box2_new[:,:,i] = pick_largest_comp(dilation(labels_box2[:,:,i],3))\n",
    "    \n",
    "# labels_box2 = labels_box2_new.copy()\n",
    "# plt.imshow(labels_box2[:,:,360],cmap=\"gray\")"
   ]
  },
  {
   "cell_type": "code",
   "execution_count": 74,
   "metadata": {},
   "outputs": [],
   "source": [
    "labels = np.zeros(fbp.shape)\n",
    "# change labels_box2 from class N to class 2\n",
    "labels_box2[labels_box2 > 0] = 2\n",
    "\n",
    "labels[box1[0]:box1[1],box1[2]:box1[3],:] = labels_box1\n",
    "labels[box2[0]:box2[1],box2[2]:box2[3],:] = labels_box2"
   ]
  },
  {
   "cell_type": "code",
   "execution_count": 75,
   "metadata": {},
   "outputs": [
    {
     "data": {
      "text/plain": [
       "<matplotlib.image.AxesImage at 0x7f89e95f1670>"
      ]
     },
     "execution_count": 75,
     "metadata": {},
     "output_type": "execute_result"
    },
    {
     "data": {
      "image/png": "[encoded data removed]",
      "text/plain": [
       "<Figure size 432x288 with 1 Axes>"
      ]
     },
     "metadata": {
      "needs_background": "light"
     },
     "output_type": "display_data"
    }
   ],
   "source": [
    "plt.imshow(labels[:,:,37],cmap=\"gray\")"
   ]
  },
  {
   "cell_type": "code",
   "execution_count": 76,
   "metadata": {},
   "outputs": [],
   "source": [
    "\n",
    "save_folder = os.path.join(main_folder,'class_by_spatial')\n",
    "os.makedirs(save_folder, exist_ok = True)\n",
    "os.makedirs(os.path.join(save_folder, 'pngs'),exist_ok = True)\n",
    "\n",
    "# save numpy\n",
    "#np.save(os.path.join(save_folder,'movie_' + str(offset) + '_'+str(heart_rate)+'_spatial_labels'),labels)\n",
    "np.save(os.path.join(save_folder,'movie_letter_v4_c3_spatial_labels'),labels)\n",
    "\n",
    "# save images\n",
    "for i in range(labels.shape[2]):\n",
    "    plt.imsave('{}/{}.png'.format(os.path.join(save_folder,'pngs'),i),labels[...,i],cmap='gray')\n",
    "\n",
    "# save movie\n",
    "pngs = ff.sort_timeframe(ff.find_all_target_files(['*.png'],os.path.join(save_folder,'pngs')),1)\n",
    "#ff.make_movies(os.path.join(save_folder,'movie_' + str(offset) + '_'+str(heart_rate)+'_spatial_labels_movie.mp4'),pngs,144)\n",
    "ff.make_movies(os.path.join(save_folder,'movie_letter_v4_c3_spatial_labels_movie.mp4'),pngs,100)\n",
    "    "
   ]
  },
  {
   "cell_type": "code",
   "execution_count": null,
   "metadata": {},
   "outputs": [],
   "source": []
  }
 ],
 "metadata": {
  "kernelspec": {
   "display_name": "Python 3",
   "language": "python",
   "name": "python3"
  },
  "language_info": {
   "codemirror_mode": {
    "name": "ipython",
    "version": 3
   },
   "file_extension": ".py",
   "mimetype": "text/x-python",
   "name": "python",
   "nbconvert_exporter": "python",
   "pygments_lexer": "ipython3",
   "version": "3.8.5"
  }
 },
 "nbformat": 4,
 "nbformat_minor": 4
}
